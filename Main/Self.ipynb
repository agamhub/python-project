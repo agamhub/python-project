{
 "cells": [
  {
   "cell_type": "code",
   "execution_count": 2,
   "metadata": {},
   "outputs": [
    {
     "name": "stdout",
     "output_type": "stream",
     "text": [
      "['INSURANCE_CONTRACT_GROUP_plai-iac.csv', 'IAS_SIDELINE_RECORDS.xlsx', 'SP', 'file_name.txt', 'INSURANCE_CONTRACT_GROUP_plai-ias.csv']\n",
      "HEADER1|HEADER2|HEADER3\n",
      "A|B|C\n",
      "B|C|D\n"
     ]
    }
   ],
   "source": [
    "import os\n",
    "\n",
    "directory = \"/home/user/python-project/File\"\n",
    "files = os.listdir(directory)\n",
    "\n",
    "print(files)\n",
    "\n",
    "with open(\"/home/user/python-project/File/file_name.txt\", \"r\") as f:\n",
    "    contents = f.read()\n",
    "    print(contents)\n"
   ]
  },
  {
   "cell_type": "code",
   "execution_count": 2,
   "metadata": {},
   "outputs": [
    {
     "name": "stdout",
     "output_type": "stream",
     "text": [
      "{'asdf1234': {'firstname': 'john', 'lastname': 'smith', 'age': 30}, 'sdfg2345': {'firstname': 'jane', 'lastname': 'doe', 'age': 25}, 'dfgh3456': {'firstname': 'billy', 'lastname': 'ericson', 'age': 35}}\n"
     ]
    }
   ],
   "source": [
    "dicts = [\n",
    "   {\n",
    "      \"id\":\"asdf1234\",\n",
    "      \"firstname\":\"john\",\n",
    "      \"lastname\":\"smith\",\n",
    "      \"age\":30\n",
    "   },\n",
    "   {\n",
    "      \"id\":\"sdfg2345\",\n",
    "      \"firstname\":\"jane\",\n",
    "      \"lastname\":\"doe\",\n",
    "      \"age\":25\n",
    "   },\n",
    "   {\n",
    "      \"id\":\"dfgh3456\",\n",
    "      \"firstname\":\"billy\",\n",
    "      \"lastname\":\"ericson\",\n",
    "      \"age\":35\n",
    "   }\n",
    "]    \n",
    "\n",
    "new_dicts = {d.pop('id'): d for d in dicts}\n",
    "\n",
    "print(new_dicts)"
   ]
  },
  {
   "cell_type": "code",
   "execution_count": 14,
   "metadata": {},
   "outputs": [
    {
     "name": "stdout",
     "output_type": "stream",
     "text": [
      "  ENTITY_ID REPORTING_DT           INSURANCE_CONTRACT_GROUP_ID  \\\n",
      "0     IAS_D   2023-12-31        IAI_PRSHAULIDR_VFA_2020_23_VFA   \n",
      "1     IAS_A   2023-12-31        IAI_IVSHAULIDR_VFA_2020_64_VFA   \n",
      "2     IAS_D   2023-12-31      IAI_PRSHAYRTIDR_PAA_2020_344_PAA   \n",
      "3     IAS_A   2023-12-31  IAI_PRSHANULIDR_GMM_2023_334_GMM_NOV   \n",
      "4     IAS_A   2023-12-31        IAI_IVSHAULIDR_VFA_2021_66_VFA   \n",
      "5     IAS_D   2023-12-31             IAI_PRPSURSHANUL_2023_DEC   \n",
      "6     IAS_A   2023-12-31    IAI_IVSHAULIDR_GMM_2009_83_GMM_SUB   \n",
      "7     IAS_A   2023-12-31     IAI_PRSHAULIDR_GMM_2023_2_GMM_MAR   \n",
      "8     IAS_A   2023-12-31    IAI_PRSHAULIDR_GMM_2023_46_GMM_FEB   \n",
      "9     IAS_D   2023-12-31    IAI_PRSHAULIDR_VFA_2014_12_VFA_SUB   \n",
      "\n",
      "  INSURANCE_CONTRACT_GROUP_CD INSURANCE_CONTRACT_PRTFL_ID WORKGROUP  \\\n",
      "0                     REGULAR                  PRSHAULIDR     IAI_D   \n",
      "1                     REGULAR                  IVSHAULIDR     IAI_A   \n",
      "2                     REGULAR                 PRSHAYRTIDR     IAI_D   \n",
      "3                     REGULAR                 PRSHANULIDR     IAI_A   \n",
      "4                     REGULAR                  IVSHAULIDR     IAI_A   \n",
      "5                     REGULAR                PRPSURSHANUL     IAI_D   \n",
      "6                     REGULAR                  IVSHAULIDR     IAI_A   \n",
      "7                     REGULAR                  PRSHAULIDR     IAI_A   \n",
      "8                     REGULAR                  PRSHAULIDR     IAI_A   \n",
      "9                     REGULAR                  PRSHAULIDR     IAI_D   \n",
      "\n",
      "   PRODUCT_LINE_ID REGLTRY_GROUP_CLASS_CD COUNTRY_CD  NO_CONTRACTS  ...  \\\n",
      "0              NaN              REMAINING         ID           NaN  ...   \n",
      "1              NaN            NOT_ONEROUS         ID           NaN  ...   \n",
      "2              NaN              REMAINING         ID           NaN  ...   \n",
      "3              NaN            NOT_ONEROUS         ID           NaN  ...   \n",
      "4              NaN            NOT_ONEROUS         ID           NaN  ...   \n",
      "5              NaN            NOT_ONEROUS         ID           NaN  ...   \n",
      "6              NaN                ONEROUS         ID           NaN  ...   \n",
      "7              NaN            NOT_ONEROUS         ID           NaN  ...   \n",
      "8              NaN            NOT_ONEROUS         ID           NaN  ...   \n",
      "9              NaN            NOT_ONEROUS         ID           NaN  ...   \n",
      "\n",
      "  TRANSITION_LIC_RA_AMT TRANSITION_SDW_CSM_AMT TRANSITION_LREC_AMT  \\\n",
      "0                   0.0                    0.0                 0.0   \n",
      "1                   0.0                    0.0                 0.0   \n",
      "2                   0.0                    0.0                 0.0   \n",
      "3                   0.0                    0.0                 0.0   \n",
      "4                   0.0                    0.0                 0.0   \n",
      "5                   0.0                    0.0                 0.0   \n",
      "6                   0.0                    0.0                 0.0   \n",
      "7                   0.0                    0.0                 0.0   \n",
      "8                   0.0                    0.0                 0.0   \n",
      "9                   0.0                    0.0                 0.0   \n",
      "\n",
      "   TRANSITION_PCA_AMT  TRANSITION_PAA_AMT  TRANSITION_PAA_PREM_AMT  \\\n",
      "0                 0.0                 0.0                      0.0   \n",
      "1                 0.0                 0.0                      0.0   \n",
      "2                 0.0                 0.0                      0.0   \n",
      "3                 0.0                 0.0                      0.0   \n",
      "4                 0.0                 0.0                      0.0   \n",
      "5                 0.0                 0.0                      0.0   \n",
      "6                 0.0                 0.0                      0.0   \n",
      "7                 0.0                 0.0                      0.0   \n",
      "8                 0.0                 0.0                      0.0   \n",
      "9                 0.0                 0.0                      0.0   \n",
      "\n",
      "   TRANSITION_PAA_ACQ_AMT  TRANSITION_PAA_LC_AMT  \\\n",
      "0                     0.0                    0.0   \n",
      "1                     0.0                    0.0   \n",
      "2                     0.0                    0.0   \n",
      "3                     0.0                    0.0   \n",
      "4                     0.0                    0.0   \n",
      "5                     0.0                    0.0   \n",
      "6                     0.0                    0.0   \n",
      "7                     0.0                    0.0   \n",
      "8                     0.0                    0.0   \n",
      "9                     0.0                    0.0   \n",
      "\n",
      "   TRANSITION_ESTATE_BAL_PH_AMT  CURVE_ID  \n",
      "0                           0.0       NaN  \n",
      "1                           0.0       NaN  \n",
      "2                           0.0       NaN  \n",
      "3                           0.0       NaN  \n",
      "4                           0.0       NaN  \n",
      "5                           0.0       NaN  \n",
      "6                           0.0       NaN  \n",
      "7                           0.0       NaN  \n",
      "8                           0.0       NaN  \n",
      "9                           0.0       NaN  \n",
      "\n",
      "[10 rows x 31 columns]\n"
     ]
    }
   ],
   "source": [
    "import pandas as pd\n",
    "\n",
    "df = pd.read_csv('/home/user/python-project/File/INSURANCE_CONTRACT_GROUP_plai-ias.csv', nrows=10)\n",
    "\n",
    "print(df)\n"
   ]
  },
  {
   "cell_type": "code",
   "execution_count": 5,
   "metadata": {},
   "outputs": [
    {
     "name": "stdout",
     "output_type": "stream",
     "text": [
      "+----+-------------+------------+------------------+-----------------------------+-----------------+-------------+------------+--------------+--------------+-------------+-----------+--------------------------------------------------+---------+------+------+------+------+------+------+------+------+--------------+----------------+-------------+---------------------------+\n",
      "|    | ENTITY_ID   |    ACCT_CD |   EXTRACT_PERIOD | TXN_DT                      |   AMT_LOCAL_CCY | CR_DR_FLG   |   JRNAL_NO |   JRNAL_LINE | JRNAL_TYPE   | JRNAL_SRC   | TXN_REF   | TXN_DESC                                         |      T0 |   T1 |   T2 |   T3 |   T4 |   T5 | T6   | T7   |   T8 |   JOB_RUN_ID |   BATCH_RUN_ID | VALID_FLG   | FIND_SPECIFIC_CHARACTER   |\n",
      "|----+-------------+------------+------------------+-----------------------------+-----------------+-------------+------------+--------------+--------------+-------------+-----------+--------------------------------------------------+---------+------+------+------+------+------+------+------+------+--------------+----------------+-------------+---------------------------|\n",
      "|  3 | IAC         | 3373000120 |          2024001 | 2024-01-05 00:00:00.0000000 |          247500 | D           |       2816 |          242 | ADJ4         | DWI         | ACCR-0124 | 381723_Dinner Reward Kontes OctoberFest Region J | 0000000 |  nan |  nan |  nan |  nan |  nan | A24  | P01  |  nan |        24134 |           7484 | Y           | True                      |\n",
      "+----+-------------+------------+------------------+-----------------------------+-----------------+-------------+------------+--------------+--------------+-------------+-----------+--------------------------------------------------+---------+------+------+------+------+------+------+------+------+--------------+----------------+-------------+---------------------------+\n"
     ]
    }
   ],
   "source": [
    "from google.cloud import storage\n",
    "import pandas as pd\n",
    "import io\n",
    "from tabulate import tabulate\n",
    "\n",
    "bucket_name = \"pruidlife-nprd-dev-c5wvjk-asia-southeast2-datalake\"\n",
    "file_name = \"data-manual/Renova/ABST_ID_ABST_IFRS4_SUNGL_EXTRACT_IAC_202401.csv\"\n",
    "\n",
    "def read_file_from_gcs(bucket_name, file_name):\n",
    "    \"\"\"Reads a file from a Google Cloud Storage bucket.\"\"\"\n",
    "    # bucket_name = \"your-bucket-name\"\n",
    "    # file_name = \"your-file-name\"\n",
    "    storage_client = storage.Client()\n",
    "    bucket = storage_client.bucket(bucket_name)\n",
    "    blob = bucket.blob(file_name)\n",
    "    # Read the file contents\n",
    "    contents = blob.download_as_bytes() # can either use string or bytes\n",
    "    blob_file = io.BytesIO(contents)\n",
    "    data_frame(blob_file)\n",
    "    #print(blob)\n",
    "    #Print the file contents\n",
    "    #print(contents.decode(\"utf-8\"))\n",
    "\n",
    "def data_frame(contents):\n",
    "    #df = pd.read_csv(io.BytesIO(contents))\n",
    "    #df = pd.read_csv(io.BytesIO(contents), nrows=2) to limit rows using nrows\n",
    "    df = pd.read_csv(contents, delimiter='|')\n",
    "    df['FIND_SPECIFIC_CHARACTER'] = df['TXN_DESC'].str.contains('\"')\n",
    "    df = df[df['FIND_SPECIFIC_CHARACTER'] == True]\n",
    "    df['TXN_DESC'] = df['TXN_DESC'].str.replace('\"', '')\n",
    "\n",
    "    print(tabulate(df, headers='keys', tablefmt='psql'))\n",
    "\n",
    "read_file_from_gcs(bucket_name, file_name)"
   ]
  },
  {
   "cell_type": "code",
   "execution_count": 38,
   "metadata": {},
   "outputs": [
    {
     "name": "stdout",
     "output_type": "stream",
     "text": [
      "pruidlife-nprd-dev-c5wvjk-asia-southeast2-datalake+data-movement SrcFiles/CP/CONFIG/LAND_${BATCHDATE}-ETL1-CONFIG-CONFIG-IFRS17_UC_PROD_ICG_MAP\n"
     ]
    }
   ],
   "source": [
    "# split variable to 2 strings\n",
    "def test_function(location):\n",
    "    bucketname,key = location.split('/',2)[-1].split('/',1) if location.startswith('gs') else location\n",
    "    print(bucketname,key)\n",
    "\n",
    "test_function(\"gs://pruidlife-nprd-dev-c5wvjk-asia-southeast2-datalake/data-movement/SrcFiles/CP/CONFIG/LAND_${BATCHDATE}-ETL1-CONFIG-CONFIG-IFRS17_UC_PROD_ICG_MAP\")   "
   ]
  },
  {
   "cell_type": "code",
   "execution_count": 54,
   "metadata": {},
   "outputs": [
    {
     "name": "stdout",
     "output_type": "stream",
     "text": [
      "  ENTITY_ID     INSURANCE_CONTRACT_GROUP_ID  CURVE_ID\n",
      "0     IAC_D  IAI_IVCONULIDR_VFA_2007_57_VFA       NaN\n",
      "  ENTITY_ID     INSURANCE_CONTRACT_GROUP_ID  CURVE_ID\n",
      "0     IAS_D  IAI_PRSHAULIDR_VFA_2020_23_VFA       NaN\n"
     ]
    }
   ],
   "source": []
  },
  {
   "cell_type": "code",
   "execution_count": 2,
   "metadata": {},
   "outputs": [
    {
     "name": "stdout",
     "output_type": "stream",
     "text": [
      "7464\n",
      "  ENTITY_ID     INSURANCE_CONTRACT_GROUP_ID  CURVE_ID\n",
      "0     IAC_D  IAI_IVCONULIDR_VFA_2007_57_VFA       NaN\n",
      "1704\n",
      "  ENTITY_ID     INSURANCE_CONTRACT_GROUP_ID  CURVE_ID\n",
      "0     IAS_D  IAI_PRSHAULIDR_VFA_2020_23_VFA       NaN\n",
      "9168\n"
     ]
    }
   ],
   "source": [
    "import pandas as pd\n",
    "\n",
    "df = pd.read_csv('/home/user/python-project/File/INSURANCE_CONTRACT_GROUP_plai-iac.csv')\n",
    "#print(df.columns)\n",
    "df2 = len(df)\n",
    "\n",
    "print(df2)\n",
    "df = df[['ENTITY_ID','INSURANCE_CONTRACT_GROUP_ID','CURVE_ID']]\n",
    "df = df.drop_duplicates(subset='CURVE_ID')\n",
    "\n",
    "print(df)\n",
    "\n",
    "df1 = pd.read_csv('/home/user/python-project/File/INSURANCE_CONTRACT_GROUP_plai-ias.csv')\n",
    "#print(df.columns)\n",
    "df3 = len(df1)\n",
    "print(df3)\n",
    "df1 = df1[['ENTITY_ID','INSURANCE_CONTRACT_GROUP_ID','CURVE_ID']]\n",
    "df1 = df1.drop_duplicates(subset='CURVE_ID')\n",
    "\n",
    "#print(df)\n",
    "#df = df.groupby(['ENTITY_ID','INSURANCE_CONTRACT_GROUP_ID','CURVE_ID']).size().to_frame(name = 'count')\n",
    "\n",
    "print(df1)\n",
    "print (df2+df3)\n"
   ]
  },
  {
   "cell_type": "code",
   "execution_count": 4,
   "metadata": {},
   "outputs": [
    {
     "name": "stdout",
     "output_type": "stream",
     "text": [
      "[{'name': 'agam', 'age': 20, 'city': 'New York'}, {'name': 'adhi', 'age': 21, 'city': 'New York'}]\n"
     ]
    }
   ],
   "source": [
    "people = [{\"name\":\"agam\",\"age\":20,\"city\":\"\"},{\"name\":\"adhi\",\"age\":21}]\n",
    "# Add a new property called \"city\" to each object\n",
    "for person in people:\n",
    "  person[\"city\"] = \"New York\"\n",
    "print(people)\n",
    "\n"
   ]
  }
 ],
 "metadata": {
  "kernelspec": {
   "display_name": ".venv",
   "language": "python",
   "name": "python3"
  },
  "language_info": {
   "codemirror_mode": {
    "name": "ipython",
    "version": 3
   },
   "file_extension": ".py",
   "mimetype": "text/x-python",
   "name": "python",
   "nbconvert_exporter": "python",
   "pygments_lexer": "ipython3",
   "version": "3.11.8"
  }
 },
 "nbformat": 4,
 "nbformat_minor": 2
}
